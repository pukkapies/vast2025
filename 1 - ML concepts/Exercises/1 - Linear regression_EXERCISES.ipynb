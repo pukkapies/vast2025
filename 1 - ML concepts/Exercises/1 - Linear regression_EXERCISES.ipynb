{
 "cells": [
  {
   "cell_type": "markdown",
   "metadata": {},
   "source": [
    "# Linear regression exercises"
   ]
  },
  {
   "cell_type": "markdown",
   "metadata": {},
   "source": [
    "In this notebook we will work with sklearn to compute linear regression models."
   ]
  },
  {
   "cell_type": "markdown",
   "metadata": {},
   "source": [
    "**1. We will build a linear regression model for the Airfoil Self-Noise dataset from the UCI machine learning repository. The dataset is available here: https://archive.ics.uci.edu/dataset/291/airfoil+self+noise. The following cell loads it into a pandas Dataframe, complete with appropriate headers.**\n",
    "\n",
    "**Compute summary statistics for the dataset using the Dataframe `.describe()` method.**"
   ]
  },
  {
   "cell_type": "code",
   "execution_count": null,
   "metadata": {},
   "outputs": [],
   "source": [
    "import pandas as pd\n",
    "airfoil = pd.read_csv('airfoil_self_noise.dat', sep='\\t', names=['Frequency', 'Angle', 'Chord length', 'Velocity', \n",
    "                                                         'Displacement thickness', 'Sound pressure level'])"
   ]
  },
  {
   "cell_type": "code",
   "execution_count": null,
   "metadata": {},
   "outputs": [],
   "source": []
  },
  {
   "cell_type": "markdown",
   "metadata": {},
   "source": [
    "**2. We will predict the scaled sound pressure level from the other 5 feature variables in the dataset. Create a train/test split with the proportion 80/20. Train a linear regression model on the training set and calculate the root mean squared error (RMSE) on the training and test sets.**"
   ]
  },
  {
   "cell_type": "code",
   "execution_count": null,
   "metadata": {},
   "outputs": [],
   "source": []
  },
  {
   "cell_type": "markdown",
   "metadata": {},
   "source": [
    "**3. Try to improve the performance of your model by adding quadratic basis functions. Evaluate the RMSE performance on the training and test sets.**"
   ]
  },
  {
   "cell_type": "code",
   "execution_count": null,
   "metadata": {},
   "outputs": [],
   "source": []
  },
  {
   "cell_type": "markdown",
   "metadata": {},
   "source": [
    "**4. Finally, also include cubic basis functions and evaluate RMSE performance on the training and test sets.**"
   ]
  },
  {
   "cell_type": "code",
   "execution_count": null,
   "metadata": {},
   "outputs": [],
   "source": []
  }
 ],
 "metadata": {
  "kernelspec": {
   "display_name": "Python 3 (ipykernel)",
   "language": "python",
   "name": "python3"
  },
  "language_info": {
   "codemirror_mode": {
    "name": "ipython",
    "version": 3
   },
   "file_extension": ".py",
   "mimetype": "text/x-python",
   "name": "python",
   "nbconvert_exporter": "python",
   "pygments_lexer": "ipython3",
   "version": "3.10.12"
  }
 },
 "nbformat": 4,
 "nbformat_minor": 4
}
