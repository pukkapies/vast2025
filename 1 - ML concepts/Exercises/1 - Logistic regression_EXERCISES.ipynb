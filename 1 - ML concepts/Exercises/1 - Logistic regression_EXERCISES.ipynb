{
 "cells": [
  {
   "cell_type": "markdown",
   "id": "bf42181c-8e15-4d67-a0aa-1c1eff77027e",
   "metadata": {},
   "source": [
    "# Logistic regression exercises"
   ]
  },
  {
   "cell_type": "markdown",
   "id": "fcc7b225-56dd-402e-8ec9-767bb59b101b",
   "metadata": {},
   "source": [
    "We will use a toy dataset from `sklearn` to illustrate fitting a logistic regression classifier."
   ]
  },
  {
   "cell_type": "markdown",
   "id": "bac5b3d5-0114-4d4e-b12a-dfe308eeba61",
   "metadata": {},
   "source": [
    "**1. Create a toy dataset using the `make_blobs` function from `sklearn` (see [here](https://scikit-learn.org/stable/modules/generated/sklearn.datasets.make_blobs.html)). The dataset should have 150 samples from 2 clusters (centers), using a cluster standard deviation of 3.0. Save the input data points and labels into numpy arrays `X` and `y`, and print their shapes.**\n",
    "\n",
    "**Create a scatter plot of the dataset, colouring the points according to their cluster label.**"
   ]
  },
  {
   "cell_type": "code",
   "execution_count": null,
   "id": "554c6916-1011-482b-990f-76ac6a20395f",
   "metadata": {},
   "outputs": [],
   "source": []
  },
  {
   "cell_type": "markdown",
   "id": "43b26913-2fe5-43eb-96d8-f6420b7da7ef",
   "metadata": {},
   "source": [
    "**2. Create training and test splits with a 75/25 ratio. Make scatter plots showing the training and test splits separately, again colouring the points according to their label.**"
   ]
  },
  {
   "cell_type": "code",
   "execution_count": null,
   "id": "10e685c6-f07c-49e6-99ef-5f85043fe41f",
   "metadata": {},
   "outputs": [],
   "source": []
  },
  {
   "cell_type": "markdown",
   "id": "5dc7b53f-428a-41f8-85b9-fc34210213bc",
   "metadata": {},
   "source": [
    "**3. Use the `LogisticRegression` class from `sklearn` (see [here](https://scikit-learn.org/stable/modules/generated/sklearn.linear_model.LogisticRegression.html), it is similar to the `LinearRegression` class) to train a logistic regression classifier on your toy dataset.**\n",
    "\n",
    "**Print the coefficients and intercept from your learned model.**"
   ]
  },
  {
   "cell_type": "code",
   "execution_count": null,
   "id": "fb1c6294-004e-4152-a1a3-6d14af8886a9",
   "metadata": {},
   "outputs": [],
   "source": []
  },
  {
   "cell_type": "markdown",
   "id": "2f404dce-79df-445e-b622-3755ad587a17",
   "metadata": {},
   "source": [
    "**4. Display the training and test data points (separately), including the decision boundary from your logistic regression classifier. The decision boundary is defined as $\\{\\mathbf{x}: f_\\theta(\\mathbf{x}) = 0.5\\}$.**"
   ]
  },
  {
   "cell_type": "code",
   "execution_count": null,
   "id": "5c065b3e-de14-4925-9c52-09a7003d459f",
   "metadata": {},
   "outputs": [],
   "source": []
  },
  {
   "cell_type": "markdown",
   "id": "fa14e107-3263-4a92-8da2-1c48e633d231",
   "metadata": {},
   "source": [
    "**5. Calculate the accuracy of your logistic regression classifier on the training and test datasets.**"
   ]
  },
  {
   "cell_type": "code",
   "execution_count": null,
   "id": "345d2b31-edb0-4938-8f33-c1a070dfd8b3",
   "metadata": {},
   "outputs": [],
   "source": []
  }
 ],
 "metadata": {
  "kernelspec": {
   "display_name": "Python 3 (ipykernel)",
   "language": "python",
   "name": "python3"
  },
  "language_info": {
   "codemirror_mode": {
    "name": "ipython",
    "version": 3
   },
   "file_extension": ".py",
   "mimetype": "text/x-python",
   "name": "python",
   "nbconvert_exporter": "python",
   "pygments_lexer": "ipython3",
   "version": "3.10.12"
  }
 },
 "nbformat": 4,
 "nbformat_minor": 5
}
