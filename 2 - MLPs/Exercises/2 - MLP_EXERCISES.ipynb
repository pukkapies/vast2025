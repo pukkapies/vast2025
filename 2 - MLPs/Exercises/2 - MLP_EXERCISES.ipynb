{
 "cells": [
  {
   "cell_type": "markdown",
   "metadata": {},
   "source": [
    "# Multilayer perceptrons exercises"
   ]
  },
  {
   "cell_type": "markdown",
   "metadata": {},
   "source": [
    "**1. The logistic map is an iterative map defined as**\n",
    "\n",
    "$$\n",
    "x_{n+1} = f_\\lambda(x_n) := \\lambda x_n(1 - x_n),\n",
    "$$\n",
    "\n",
    "**where $\\lambda$ is a parameter. We will consider the map acting on the unit interval $[0, 1]$ and $\\lambda = 4$.**\n",
    "\n",
    "**Make a plot of the logistic map for $x_n\\in[0, 1]$.**"
   ]
  },
  {
   "cell_type": "code",
   "execution_count": null,
   "metadata": {},
   "outputs": [],
   "source": []
  },
  {
   "cell_type": "markdown",
   "metadata": {},
   "source": [
    "**2. Create a dataset of points $(x_i, y_i)_{i=1}^N$, $x_i, y_i\\in\\mathbb{R}$, $N=100$, where $y_i = f_\\lambda(x_i)$. Create training and test splits of the data.**"
   ]
  },
  {
   "cell_type": "code",
   "execution_count": null,
   "metadata": {},
   "outputs": [],
   "source": []
  },
  {
   "cell_type": "markdown",
   "metadata": {},
   "source": [
    "**3. Using the `LinearRegression` class from `sklearn`, fit a linear regression classifier using quadratic basis functions. Display the learned coefficients.**"
   ]
  },
  {
   "cell_type": "code",
   "execution_count": null,
   "metadata": {},
   "outputs": [],
   "source": []
  },
  {
   "cell_type": "markdown",
   "metadata": {},
   "source": [
    "**4. The linear regression should give a good fit, but this is cheating! We assumed a model with quadratic basis functions, knowing that our underlying target function was quadratic. In general our target function could be anything, and won't necessarily be polynomial.**\n",
    "\n",
    "**Define and train a multilayer perceptron, using a mean squared error loss for the objective function. Compute the performance on the test set.**"
   ]
  },
  {
   "cell_type": "code",
   "execution_count": null,
   "metadata": {},
   "outputs": [],
   "source": []
  },
  {
   "cell_type": "markdown",
   "metadata": {},
   "source": [
    "**5. Plot the function learned by your MLP model on the domain $[0, 1]$.**"
   ]
  },
  {
   "cell_type": "code",
   "execution_count": null,
   "metadata": {},
   "outputs": [],
   "source": []
  }
 ],
 "metadata": {
  "kernelspec": {
   "display_name": "Python 3 (ipykernel)",
   "language": "python",
   "name": "python3"
  },
  "language_info": {
   "codemirror_mode": {
    "name": "ipython",
    "version": 3
   },
   "file_extension": ".py",
   "mimetype": "text/x-python",
   "name": "python",
   "nbconvert_exporter": "python",
   "pygments_lexer": "ipython3",
   "version": "3.10.12"
  }
 },
 "nbformat": 4,
 "nbformat_minor": 4
}
