{
 "cells": [
  {
   "cell_type": "markdown",
   "id": "37e7dbca-9063-46b4-ae90-bd5bcc5e57cd",
   "metadata": {},
   "source": [
    "# RNNs exercises"
   ]
  },
  {
   "cell_type": "markdown",
   "id": "145d19d6-b6c7-4cf3-9037-b7b592a585bd",
   "metadata": {},
   "source": [
    "**1. The Lorenz ODE system as defined as**\n",
    "\n",
    "$$\n",
    "\\begin{align}\n",
    "\\frac{dx}{dt} &= \\sigma(y - x),\\\\\n",
    "\\frac{dy}{dt} &= x(r - z) - y,\\\\\n",
    "\\frac{dz}{dt} &= xy - bz,\n",
    "\\end{align}\\tag{1}\n",
    "$$\n",
    "**where $\\sigma$, $r$ and $b$ are parameters. Define a function that takes a numpy array of shape `(batch_size, 3)` as input, along with parameters `sigma`, `r` and `b`, and returns a numpy array of shape `(batch_size, 3)` where the entries are $dx/dt$, $dy/dt$ and $dz/dt$ for each element in the batch.**"
   ]
  },
  {
   "cell_type": "code",
   "execution_count": null,
   "id": "3f16326c-e90b-4c5b-b68a-de1527ce5f57",
   "metadata": {},
   "outputs": [],
   "source": []
  },
  {
   "cell_type": "markdown",
   "id": "90bc317c-4460-4694-82f9-914205c94c9d",
   "metadata": {},
   "source": [
    "**2. Write a function that takes an initial condition (a numpy array of shape `(batch_size, 3)`) and numerically computes a solution to the Lorenz equations. Your function should also take `n_steps` and `step_size` as arguments, and use the Euler scheme to numerically solve the ODE:**\n",
    "\n",
    "$$\n",
    "(x_{n+1}, y_{n+1}, z_{n+1}) = (x_{n+1}, y_{n+1}, z_{n+1}) + \\eta f(x_n, y_n, z_n),\n",
    "$$\n",
    "**where $f:\\mathbb{R}^3\\mapsto\\mathbb{R}^3$ is the right hand side of (1), and $\\eta$ is the step size. Your function should return a numpy array of shape `(batch_size, n_steps + 1, 3)`.**\n",
    "\n",
    "**Demonstrate your function by computing a batch of two orbits and plotting them in the $(y, z)$-plane. Use a step size of 0.01.**"
   ]
  },
  {
   "cell_type": "code",
   "execution_count": null,
   "id": "7af7da61-d1dd-49da-9ac3-1550e9470e30",
   "metadata": {},
   "outputs": [],
   "source": []
  },
  {
   "cell_type": "markdown",
   "id": "c177f9d0-4e56-44ca-801e-bc7a5faaa2f7",
   "metadata": {},
   "source": [
    "**3. Generate a dataset of numerically computed orbits of the Lorenz system, using initial conditions with each $x,y,x$ sampled uniformly from -15 to 15. Each orbit should consist of 5000 time steps, and there should be 400 orbits in the training set and 100 orbits in the test set. The data arrays should have shape `(N, 5000, 3)`. Call these arrays `y_train` and `y_test` respectively.**"
   ]
  },
  {
   "cell_type": "code",
   "execution_count": null,
   "id": "1e064614-d03a-4085-afcd-0b8d98a5ca36",
   "metadata": {},
   "outputs": [],
   "source": []
  },
  {
   "cell_type": "markdown",
   "id": "4845e767-ea1d-454d-8209-c48d4bbeb15e",
   "metadata": {},
   "source": [
    "**4. Now create noisy versions of these orbits, by adding i.i.d. Gaussian noise to each point in each orbit. The Gaussian noise should have mean zero and standard deviation 0.5. The 'noisy' arrays should have shape `(N, 5000, 3)`. Call these arrays `x_train` and `x_test`.**\n",
    "\n",
    "**Plot a sample orbit from the training set in the $(y, z)$-plane, showing the 'true' and 'noisy' versions of the orbit.**"
   ]
  },
  {
   "cell_type": "code",
   "execution_count": null,
   "id": "1e7b7e43-3360-47e6-ab20-24c13550af60",
   "metadata": {},
   "outputs": [],
   "source": []
  },
  {
   "cell_type": "markdown",
   "id": "10f3ed81-6fa1-4281-9437-606e6673b4cd",
   "metadata": {},
   "source": [
    "**5. Define and train an RNN model that takes a noisy orbit as input, and predicts the true/de-noised orbit. You are free to choose the design of your network, as well as the training algorithm. Print the final test RMSE obtained by your model.**\n",
    "\n",
    "**You might find that it takes a while to train a good model. It may help to speed up training if you normalise the data somehow.**"
   ]
  },
  {
   "cell_type": "code",
   "execution_count": null,
   "id": "d09f5446-2bdc-4313-8b76-49135fb31ec3",
   "metadata": {},
   "outputs": [],
   "source": []
  },
  {
   "cell_type": "markdown",
   "id": "da3693bc-c822-43fd-b69d-c0afd8f5ce70",
   "metadata": {},
   "source": [
    "**6. Plot an example orbit from the test set in the $(y, z)$-plane, including the true version, noisy version, and model prediction.**"
   ]
  },
  {
   "cell_type": "code",
   "execution_count": null,
   "id": "d816c78b-2d2a-4b3a-aa59-fe46ab59c4a0",
   "metadata": {},
   "outputs": [],
   "source": []
  }
 ],
 "metadata": {
  "kernelspec": {
   "display_name": "Python 3 (ipykernel)",
   "language": "python",
   "name": "python3"
  },
  "language_info": {
   "codemirror_mode": {
    "name": "ipython",
    "version": 3
   },
   "file_extension": ".py",
   "mimetype": "text/x-python",
   "name": "python",
   "nbconvert_exporter": "python",
   "pygments_lexer": "ipython3",
   "version": "3.10.12"
  }
 },
 "nbformat": 4,
 "nbformat_minor": 5
}
