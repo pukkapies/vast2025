{
 "cells": [
  {
   "cell_type": "markdown",
   "id": "37e7dbca-9063-46b4-ae90-bd5bcc5e57cd",
   "metadata": {},
   "source": [
    "# RNNs exercises"
   ]
  },
  {
   "cell_type": "markdown",
   "id": "145d19d6-b6c7-4cf3-9037-b7b592a585bd",
   "metadata": {},
   "source": [
    "**1. The Lorenz ODE system as defined as**\n",
    "\n",
    "$$\n",
    "\\begin{align}\n",
    "\\frac{dx}{dt} &= \\sigma(y - x),\\\\\n",
    "\\frac{dy}{dt} &= x(r - z) - y,\\\\\n",
    "\\frac{dz}{dt} &= xy - bz,\n",
    "\\end{align}\\tag{1}\n",
    "$$\n",
    "**where $\\sigma$, $r$ and $b$ are parameters. Define a function that takes a numpy array of shape `(batch_size, 3)` as input, along with parameters `sigma`, `r` and `b`, and returns a numpy array of shape `(batch_size, 3)` where the entries are $dx/dt$, $dy/dt$ and $dz/dt$ for each element in the batch.**"
   ]
  },
  {
   "cell_type": "code",
   "execution_count": null,
   "id": "3f16326c-e90b-4c5b-b68a-de1527ce5f57",
   "metadata": {},
   "outputs": [],
   "source": [
    "import numpy as np\n",
    "\n",
    "def lorenzf(inputs, sigma=10, r=28, b=8/3):\n",
    "    x, y, z = inputs[:, 0], inputs[:, 1], inputs[:, 2]\n",
    "    dxdt = sigma * (y - x)\n",
    "    dydt = (x * (r - z)) - y\n",
    "    dzdt = (x * y) - (b * z)\n",
    "    outputs = np.vstack((dxdt, dydt, dzdt)).T\n",
    "    return outputs"
   ]
  },
  {
   "cell_type": "markdown",
   "id": "90bc317c-4460-4694-82f9-914205c94c9d",
   "metadata": {},
   "source": [
    "**2. Write a function that takes an initial condition (a numpy array of shape `(batch_size, 3)`) and numerically computes a solution to the Lorenz equations. Your function should also take `n_steps` and `step_size` as arguments, and use the Euler scheme to numerically solve the ODE:**\n",
    "\n",
    "$$\n",
    "(x_{n+1}, y_{n+1}, z_{n+1}) = (x_{n+1}, y_{n+1}, z_{n+1}) + \\eta f(x_n, y_n, z_n),\n",
    "$$\n",
    "**where $f:\\mathbb{R}^3\\mapsto\\mathbb{R}^3$ is the right hand side of (1), and $\\eta$ is the step size. Your function should return a numpy array of shape `(batch_size, n_steps + 1, 3)`.**\n",
    "\n",
    "**Demonstrate your function by computing a batch of two orbits and plotting them in the $(y, z)$-plane. Use a step size of 0.01.**"
   ]
  },
  {
   "cell_type": "code",
   "execution_count": null,
   "id": "7af7da61-d1dd-49da-9ac3-1550e9470e30",
   "metadata": {},
   "outputs": [],
   "source": [
    "def euler_step(init_, step_size=0.01, sigma=10, r=28, b=8/3):\n",
    "    return init_ + (step_size * lorenzf(init_, sigma=sigma, r=r, b=b))\n",
    "\n",
    "def euler_steps(init, n_steps, step_size=0.01, sigma=10, r=28, b=8/3):\n",
    "    orbit = init[:, np.newaxis, :]\n",
    "    for _ in range(n_steps):\n",
    "        orbit_next = euler_step(orbit[:, -1, :], step_size=step_size, sigma=sigma, r=r, b=b)[:, np.newaxis, :]\n",
    "        orbit = np.concatenate((orbit, orbit_next), axis=-2)\n",
    "    return orbit"
   ]
  },
  {
   "cell_type": "code",
   "execution_count": null,
   "id": "52cb384e-0d18-45cf-b2b1-b3ed33f91d3c",
   "metadata": {},
   "outputs": [],
   "source": [
    "batch_size = 2\n",
    "\n",
    "init = np.random.uniform(low=-15, high=15, size=batch_size * 3).reshape((batch_size, 3))\n",
    "orbit = euler_steps(init, n_steps=5000, step_size=0.01)\n",
    "orbit.shape"
   ]
  },
  {
   "cell_type": "code",
   "execution_count": null,
   "id": "332f6499-bb8f-4a04-bf53-79f02352c56a",
   "metadata": {},
   "outputs": [],
   "source": [
    "import matplotlib.pyplot as plt\n",
    "\n",
    "plt.figure(figsize=(6, 4))\n",
    "\n",
    "plt.subplot(1, 2, 1)\n",
    "plt.plot(orbit[0, :, 1], orbit[0, :, 2])\n",
    "plt.xlabel(r\"$y$\")\n",
    "plt.ylabel(r\"$z$\")\n",
    "plt.subplot(1, 2, 2)\n",
    "plt.plot(orbit[1, :, 1], orbit[1, :, 2])\n",
    "plt.xlabel(r\"$y$\")\n",
    "plt.ylabel(r\"$z$\")\n",
    "plt.show()"
   ]
  },
  {
   "cell_type": "markdown",
   "id": "c177f9d0-4e56-44ca-801e-bc7a5faaa2f7",
   "metadata": {},
   "source": [
    "**3. Generate a dataset of numerically computed orbits of the Lorenz system, using initial conditions with each $x,y,x$ sampled uniformly from -15 to 15. Each orbit should consist of 5000 time steps, and there should be 400 orbits in the training set and 100 orbits in the test set. The data arrays should have shape `(N, 5000, 3)`. Call these arrays `y_train` and `y_test` respectively.**"
   ]
  },
  {
   "cell_type": "code",
   "execution_count": null,
   "id": "1e064614-d03a-4085-afcd-0b8d98a5ca36",
   "metadata": {},
   "outputs": [],
   "source": [
    "y_train = []\n",
    "\n",
    "for _ in range(4):\n",
    "    batch_size = 100\n",
    "    init = np.random.uniform(low=-15, high=15, size=batch_size * 3).reshape((batch_size, 3))\n",
    "    orbit = euler_steps(init, n_steps=4999, step_size=0.01)\n",
    "    y_train.append(orbit)\n",
    "y_train = np.concatenate(y_train, axis=0)\n",
    "print(y_train.shape)\n",
    "\n",
    "batch_size = 100\n",
    "init = np.random.uniform(low=-15, high=15, size=batch_size * 3).reshape((batch_size, 3))\n",
    "y_test = euler_steps(init, n_steps=4999, step_size=0.01)\n",
    "print(y_test.shape)"
   ]
  },
  {
   "cell_type": "markdown",
   "id": "4845e767-ea1d-454d-8209-c48d4bbeb15e",
   "metadata": {},
   "source": [
    "**4. Now create noisy versions of these orbits, by adding i.i.d. Gaussian noise to each point in each orbit. The Gaussian noise should have mean zero and standard deviation 0.5. The 'noisy' arrays should have shape `(N, 5000, 3)`. Call these arrays `x_train` and `x_test`.**\n",
    "\n",
    "**Plot a sample orbit from the training set in the $(y, z)$-plane, showing the 'true' and 'noisy' versions of the orbit.**"
   ]
  },
  {
   "cell_type": "code",
   "execution_count": null,
   "id": "1e7b7e43-3360-47e6-ab20-24c13550af60",
   "metadata": {},
   "outputs": [],
   "source": [
    "std = 0.5\n",
    "\n",
    "x_train = y_train + np.random.randn(*y_train.shape) * std\n",
    "x_test = y_test + np.random.randn(*y_test.shape) * std"
   ]
  },
  {
   "cell_type": "code",
   "execution_count": null,
   "id": "260d7fef-1ee3-4497-8b79-f760b1e00877",
   "metadata": {},
   "outputs": [],
   "source": [
    "i = np.random.choice(x_train.shape[0])\n",
    "fig, (ax1, ax2) = plt.subplots(1, 2, figsize=(12, 4))\n",
    "ax1.plot(y_train[i, :, 1], y_train[i, :, 2])\n",
    "ax1.set_xlabel(r\"$y$\")\n",
    "ax1.set_ylabel(r\"$z$\")\n",
    "ax1.set_title(\"True orbit\")\n",
    "ax2.plot(x_train[i, :, 1], x_train[i, :, 2])\n",
    "ax2.set_xlabel(r\"$y$\")\n",
    "ax2.set_ylabel(r\"$z$\")\n",
    "ax2.set_title(\"Noisy orbit\")\n",
    "plt.show()"
   ]
  },
  {
   "cell_type": "markdown",
   "id": "10f3ed81-6fa1-4281-9437-606e6673b4cd",
   "metadata": {},
   "source": [
    "**5. Define and train an RNN model that takes a noisy orbit as input, and predicts the true/de-noised orbit. You are free to choose the design of your network, as well as the training algorithm. Print the final test RMSE obtained by your model.**\n",
    "\n",
    "**You might find that it takes a while to train a good model. It may help to speed up training if you normalise the data somehow.**"
   ]
  },
  {
   "cell_type": "code",
   "execution_count": null,
   "id": "d09f5446-2bdc-4313-8b76-49135fb31ec3",
   "metadata": {},
   "outputs": [],
   "source": [
    "from keras.models import Sequential\n",
    "from keras.layers import Input, LSTM, Dense\n",
    "\n",
    "model = Sequential([\n",
    "    Input(shape=[None, 3]),\n",
    "    LSTM(32, return_sequences=True),\n",
    "    LSTM(16, return_sequences=True),\n",
    "    Dense(3)\n",
    "])\n",
    "model.summary()"
   ]
  },
  {
   "cell_type": "code",
   "execution_count": null,
   "id": "f2e55233-41ee-4075-8902-0b665bfecfa1",
   "metadata": {},
   "outputs": [],
   "source": [
    "# Normalise data by subtracting mean and dividing by STD\n",
    "\n",
    "mean = np.mean(y_train.reshape([-1, 3]), axis=0)\n",
    "std = np.std(y_train.reshape([-1, 3]), axis=0)\n",
    "\n",
    "x_train_norm = (x_train - mean) / std\n",
    "y_train_norm = (y_train - mean) / std\n",
    "mean.shape, std.shape"
   ]
  },
  {
   "cell_type": "code",
   "execution_count": null,
   "id": "74f19a27-d452-4cca-a565-fa944ce71db4",
   "metadata": {},
   "outputs": [],
   "source": [
    "x_test_norm = (x_test - mean) / std\n",
    "y_test_norm = (y_test - mean) / std"
   ]
  },
  {
   "cell_type": "code",
   "execution_count": null,
   "id": "1c255a3c-c51d-4f31-a4bf-37e43ef06ed9",
   "metadata": {},
   "outputs": [],
   "source": [
    "# Compute the following RMSE as a baseline\n",
    "\n",
    "np.sqrt(np.mean(np.square(x_train_norm - y_train_norm)))"
   ]
  },
  {
   "cell_type": "code",
   "execution_count": null,
   "id": "9be824c4-df15-4a18-aff2-380c83586e15",
   "metadata": {
    "scrolled": true
   },
   "outputs": [],
   "source": [
    "from keras.callbacks import EarlyStopping\n",
    "\n",
    "model.compile(loss='mse', optimizer='adam', metrics=['mae', 'root_mean_squared_error'])\n",
    "earlystopping = EarlyStopping(patience=5)\n",
    "history = model.fit(x_train_norm, y_train_norm, epochs=100, batch_size=20, validation_data=(x_test_norm, y_test_norm), \n",
    "                    callbacks=[earlystopping])"
   ]
  },
  {
   "cell_type": "code",
   "execution_count": null,
   "id": "eafea46e-6b2a-4cb7-9f41-8b1d6290d85a",
   "metadata": {},
   "outputs": [],
   "source": [
    "model.evaluate(x_train_norm, y_train_norm)"
   ]
  },
  {
   "cell_type": "code",
   "execution_count": null,
   "id": "3833db73-fd16-4646-b383-cd0768b39427",
   "metadata": {},
   "outputs": [],
   "source": [
    "model.evaluate(x_test_norm, y_test_norm)"
   ]
  },
  {
   "cell_type": "markdown",
   "id": "da3693bc-c822-43fd-b69d-c0afd8f5ce70",
   "metadata": {},
   "source": [
    "**6. Plot an example orbit from the test set in the $(y, z)$-plane, including the true version, noisy version, and model prediction.**"
   ]
  },
  {
   "cell_type": "code",
   "execution_count": null,
   "id": "7927ba61-b6e8-4400-b9a6-a2691e9c71e1",
   "metadata": {},
   "outputs": [],
   "source": [
    "i = np.random.choice(x_test.shape[0])\n",
    "\n",
    "display_nsteps = 1000\n",
    "\n",
    "fig, axes = plt.subplots(1, 3, figsize=(14, 4))\n",
    "ax1, ax2, ax3 = axes.flatten()\n",
    "ax1.plot(y_test[i, :display_nsteps, 1], y_test[i, :display_nsteps, 2], alpha=0.8)\n",
    "ax1.set_xlabel(r\"$y$\")\n",
    "ax1.set_ylabel(r\"$z$\")\n",
    "ax1.set_title(\"True orbit\")\n",
    "ax2.plot(x_test[i, :display_nsteps, 1], x_test[i, :display_nsteps, 2], alpha=0.8)\n",
    "ax2.set_xlabel(r\"$y$\")\n",
    "ax2.set_ylabel(r\"$z$\")\n",
    "ax2.set_title(\"Noisy orbit\")\n",
    "\n",
    "pred = model(x_test_norm[i:i+1]).numpy()\n",
    "pred = (pred * std) + mean\n",
    "\n",
    "ax3.plot(pred[0, :display_nsteps, 1], pred[0, :display_nsteps, 2], alpha=0.8)\n",
    "ax3.set_xlabel(r\"$y$\")\n",
    "ax3.set_ylabel(r\"$z$\")\n",
    "ax3.set_title(\"Model prediction\")\n",
    "plt.show()"
   ]
  },
  {
   "cell_type": "code",
   "execution_count": null,
   "id": "d816c78b-2d2a-4b3a-aa59-fe46ab59c4a0",
   "metadata": {},
   "outputs": [],
   "source": []
  }
 ],
 "metadata": {
  "kernelspec": {
   "display_name": "Python 3 (ipykernel)",
   "language": "python",
   "name": "python3"
  },
  "language_info": {
   "codemirror_mode": {
    "name": "ipython",
    "version": 3
   },
   "file_extension": ".py",
   "mimetype": "text/x-python",
   "name": "python",
   "nbconvert_exporter": "python",
   "pygments_lexer": "ipython3",
   "version": "3.10.12"
  }
 },
 "nbformat": 4,
 "nbformat_minor": 5
}
